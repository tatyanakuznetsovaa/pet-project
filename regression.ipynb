{
 "cells": [
  {
   "cell_type": "markdown",
   "metadata": {},
   "source": [
    "Предлагается проанализировать некоторые зависимости для данных, взятых из исследования «High School and beyond», посвященного анализу влияния различных параметров на образование.\n",
    "Целью работы является с помощью модели множественной регрессии оценить влияение различных факторов на число полных лет обучения.\n",
    "\n",
    "\n",
    "Рассматриваются следующие переменные:\n",
    "| Переменная | \tОписание                                                                                              |\n",
    "|------------|--------------------------------------------------------------------------------------------------------|\n",
    "| ed\t     | Число полных лет обучения (для всех минимальное число равно 12)                                        |\n",
    "| female \t | = 1, если респондент женщина / = 0, если респондент мужчина                                            |\n",
    "| black\t     | = 1, если респондент принадлежит негроидной расе / = 0, если респондент не принадлежит негроидной расе |\n",
    "| hispanic\t | = 1, если респондент латиноамериканского происхождения / = 0, в обратном случае                        |\n",
    "| bytest\t | Результаты теста респондентов в момент выпуска из колледжа (после 12 лет обучения)                     |\n",
    "| dadcoll \t | = 1, если отец респондента – выпускник колледжа / = 0, в обратном случае                               |\n",
    "| momcoll\t | = 1, если мать респондента – выпускник колледжа / = 0, в обратном случае                               |\n",
    "| incomehi \t | = 1, если доход семьи превышает $25,000 в год / = 0, если доход семьи ≤ $25,000 в год                  |\n",
    "| ownhome\t | = 1, если семья владеет домом / = 0, если семья не владеет домом                                       |\n",
    "| urban  \t | = 1, если школа расположена в городе / = 0, если школа не расположена в городе                         |\n",
    "| cue80\t     | Уровень безработицы в штате в 1980                                                                     |\n",
    "| stwmfg80   | Утвержденный в штате уровень почасовой оплаты труда в 1980                                             |\n",
    "| dist \t     | Расстояние до ближайшего колледжа (в 10 миль)                                                          |\n",
    "| tuition \t | Средняя по штату стоимость обучения в колледже (в 1000 $)                                              |  \n",
    "\n"
   ]
  },
  {
   "cell_type": "code",
   "execution_count": 96,
   "metadata": {},
   "outputs": [],
   "source": [
    "import pandas as pd\n",
    "import statsmodels.formula.api as smf\n",
    "import statsmodels.api as sm\n",
    "import numpy as np\n",
    "import seaborn as sns \n",
    "from statsmodels.stats.diagnostic import het_breuschpagan\n",
    "from statsmodels.stats.diagnostic import linear_reset\n",
    "\n",
    "#считываем данные из файла CollegeDistance.xls\n",
    "data = pd.read_excel('CollegeDistance.xls')"
   ]
  },
  {
   "cell_type": "code",
   "execution_count": 5,
   "metadata": {},
   "outputs": [
    {
     "name": "stdout",
     "output_type": "stream",
     "text": [
      "   female  black  hispanic  bytest  dadcoll  momcoll  ownhome  urban  cue80  \\\n",
      "0       0      0         0   39.15        1        0        1      1    6.2   \n",
      "1       1      0         0   48.87        0        0        1      1    6.2   \n",
      "2       0      0         0   48.74        0        0        1      1    6.2   \n",
      "3       0      1         0   40.40        0        0        1      1    6.2   \n",
      "4       1      0         0   40.48        0        0        0      1    5.6   \n",
      "\n",
      "   stwmfg80  dist  tuition  ed  incomehi  \n",
      "0      8.09   0.2  0.88915  12         1  \n",
      "1      8.09   0.2  0.88915  12         0  \n",
      "2      8.09   0.2  0.88915  12         0  \n",
      "3      8.09   0.2  0.88915  12         0  \n",
      "4      8.09   0.4  0.88915  13         0  \n"
     ]
    }
   ],
   "source": [
    "print(data.head())"
   ]
  },
  {
   "cell_type": "markdown",
   "metadata": {},
   "source": [
    "Выводим описательную статистику, чтоб проверить наличие выбросов и накооректности в данных:"
   ]
  },
  {
   "cell_type": "code",
   "execution_count": 7,
   "metadata": {},
   "outputs": [
    {
     "name": "stdout",
     "output_type": "stream",
     "text": [
      "            female        black     hispanic       bytest      dadcoll  \\\n",
      "count  3796.000000  3796.000000  3796.000000  3796.000000  3796.000000   \n",
      "mean      0.545311     0.192571     0.149895    51.001931     0.202055   \n",
      "std       0.498008     0.394371     0.357015     8.819251     0.401586   \n",
      "min       0.000000     0.000000     0.000000    28.950000     0.000000   \n",
      "25%       0.000000     0.000000     0.000000    43.867500     0.000000   \n",
      "50%       1.000000     0.000000     0.000000    51.390000     0.000000   \n",
      "75%       1.000000     0.000000     0.000000    57.965000     0.000000   \n",
      "max       1.000000     1.000000     1.000000    71.360000     1.000000   \n",
      "\n",
      "           momcoll      ownhome        urban        cue80     stwmfg80  \\\n",
      "count  3796.000000  3796.000000  3796.000000  3796.000000  3796.000000   \n",
      "mean      0.140411     0.819810     0.243941     7.654874     9.556499   \n",
      "std       0.348972     0.385765     0.429514     2.865770     1.364411   \n",
      "min       0.000000     0.000000     0.000000     1.400000     6.590000   \n",
      "25%       0.000000     1.000000     0.000000     5.600000     8.260000   \n",
      "50%       0.000000     1.000000     0.000000     7.200000     9.920000   \n",
      "75%       0.000000     1.000000     0.000000     9.100000    10.280000   \n",
      "max       2.000000     2.000000     1.000000    24.900000    12.150000   \n",
      "\n",
      "              dist      tuition           ed     incomehi  \n",
      "count  3796.000000  3796.000000  3796.000000  3796.000000  \n",
      "mean      1.724921     0.913140    13.829294     0.286354  \n",
      "std       2.133836     0.283578     1.813969     0.452116  \n",
      "min       0.000000     0.434180    12.000000     0.000000  \n",
      "25%       0.400000     0.673210    12.000000     0.000000  \n",
      "50%       1.000000     0.903000    13.000000     0.000000  \n",
      "75%       2.500000     1.152420    16.000000     1.000000  \n",
      "max      16.000000     1.404160    18.000000     1.000000  \n"
     ]
    }
   ],
   "source": [
    "print(data.describe())"
   ]
  },
  {
   "cell_type": "markdown",
   "metadata": {},
   "source": [
    "Проверим данные на наличие мултиколлинеарности:"
   ]
  },
  {
   "cell_type": "code",
   "execution_count": 88,
   "metadata": {},
   "outputs": [
    {
     "name": "stdout",
     "output_type": "stream",
     "text": [
      "            female     black  hispanic    bytest   dadcoll   momcoll  \\\n",
      "female    1.000000  0.044782 -0.033023 -0.072899 -0.038543 -0.014633   \n",
      "black     0.044782  1.000000 -0.205069 -0.314678 -0.112644 -0.037605   \n",
      "hispanic -0.033023 -0.205069  1.000000 -0.129896 -0.067946 -0.071686   \n",
      "bytest   -0.072899 -0.314678 -0.129896  1.000000  0.255860  0.197854   \n",
      "dadcoll  -0.038543 -0.112644 -0.067946  0.255860  1.000000  0.440555   \n",
      "momcoll  -0.014633 -0.037605 -0.071686  0.197854  0.440555  1.000000   \n",
      "ownhome  -0.045273 -0.140784 -0.077435  0.129272  0.076892  0.074461   \n",
      "urban    -0.004876  0.189288  0.153277 -0.103735 -0.071958 -0.045744   \n",
      "cue80     0.027642 -0.065542  0.090651 -0.018410 -0.088309 -0.081667   \n",
      "stwmfg80 -0.031614 -0.162030 -0.033765  0.112651  0.024332 -0.004878   \n",
      "dist     -0.003369 -0.099893  0.021141 -0.061539 -0.113258 -0.079366   \n",
      "tuition  -0.001989 -0.020730 -0.266423  0.171807  0.072232  0.040765   \n",
      "ed       -0.002228 -0.103952 -0.017442  0.476004  0.292974  0.231020   \n",
      "incomehi -0.048864 -0.120187 -0.099477  0.175932  0.360456  0.249471   \n",
      "\n",
      "           ownhome     urban     cue80  stwmfg80      dist   tuition  \\\n",
      "female   -0.045273 -0.004876  0.027642 -0.031614 -0.003369 -0.001989   \n",
      "black    -0.140784  0.189288 -0.065542 -0.162030 -0.099893 -0.020730   \n",
      "hispanic -0.077435  0.153277  0.090651 -0.033765  0.021141 -0.266423   \n",
      "bytest    0.129272 -0.103735 -0.018410  0.112651 -0.061539  0.171807   \n",
      "dadcoll   0.076892 -0.071958 -0.088309  0.024332 -0.113258  0.072232   \n",
      "momcoll   0.074461 -0.045744 -0.081667 -0.004878 -0.079366  0.040765   \n",
      "ownhome   1.000000 -0.125866  0.014047  0.076770  0.050113 -0.001141   \n",
      "urban    -0.125866  1.000000 -0.036417 -0.039086 -0.295551 -0.048456   \n",
      "cue80     0.014047 -0.036417  1.000000  0.311322  0.249481  0.199839   \n",
      "stwmfg80  0.076770 -0.039086  0.311322  1.000000 -0.008638  0.289825   \n",
      "dist      0.050113 -0.295551  0.249481 -0.008638  1.000000 -0.191838   \n",
      "tuition  -0.001141 -0.048456  0.199839  0.289825 -0.191838  1.000000   \n",
      "ed        0.092347 -0.018915 -0.009724  0.021937 -0.086311  0.057108   \n",
      "incomehi  0.134262 -0.084353 -0.065537  0.084828 -0.084532  0.105152   \n",
      "\n",
      "                ed  incomehi  \n",
      "female   -0.002228 -0.048864  \n",
      "black    -0.103952 -0.120187  \n",
      "hispanic -0.017442 -0.099477  \n",
      "bytest    0.476004  0.175932  \n",
      "dadcoll   0.292974  0.360456  \n",
      "momcoll   0.231020  0.249471  \n",
      "ownhome   0.092347  0.134262  \n",
      "urban    -0.018915 -0.084353  \n",
      "cue80    -0.009724 -0.065537  \n",
      "stwmfg80  0.021937  0.084828  \n",
      "dist     -0.086311 -0.084532  \n",
      "tuition   0.057108  0.105152  \n",
      "ed        1.000000  0.216734  \n",
      "incomehi  0.216734  1.000000  \n"
     ]
    }
   ],
   "source": [
    "print(data.corr())"
   ]
  },
  {
   "cell_type": "markdown",
   "metadata": {},
   "source": [
    "Попробуем немного иначе специфицировать модель для более верной интерпретации коэффициента безработицы."
   ]
  },
  {
   "cell_type": "code",
   "execution_count": 89,
   "metadata": {},
   "outputs": [],
   "source": [
    "data['ln_ed'] = data['ed'].apply(np.log)\n",
    "data['ln_cue80'] = data['cue80'].apply(np.log)"
   ]
  },
  {
   "cell_type": "code",
   "execution_count": 91,
   "metadata": {},
   "outputs": [
    {
     "name": "stderr",
     "output_type": "stream",
     "text": [
      "/Users/tatanakuznecova/Library/Python/3.9/lib/python/site-packages/seaborn/axisgrid.py:2100: UserWarning: The `size` parameter has been renamed to `height`; please update your code.\n",
      "  warnings.warn(msg, UserWarning)\n"
     ]
    },
    {
     "data": {
      "text/plain": [
       "<seaborn.axisgrid.PairGrid at 0x2814258e0>"
      ]
     },
     "execution_count": 91,
     "metadata": {},
     "output_type": "execute_result"
    },
    {
     "data": {
      "image/png": "[encoded data removed]",
      "text/plain": [
       "<Figure size 1400x700 with 2 Axes>"
      ]
     },
     "metadata": {},
     "output_type": "display_data"
    }
   ],
   "source": [
    "sns.pairplot(\n",
    "    data,\n",
    "    y_vars=['ed'],\n",
    "    x_vars=['cue80', 'ln_cue80'],\n",
    "    size=7,\n",
    "    diag_kind=None\n",
    ")"
   ]
  },
  {
   "cell_type": "markdown",
   "metadata": {},
   "source": [
    "Построим модель множественной линейной регрессии:"
   ]
  },
  {
   "cell_type": "code",
   "execution_count": 92,
   "metadata": {},
   "outputs": [
    {
     "data": {
      "text/html": [
       "<table class=\"simpletable\">\n",
       "<caption>OLS Regression Results</caption>\n",
       "<tr>\n",
       "  <th>Dep. Variable:</th>           <td>ed</td>        <th>  R-squared:         </th> <td>   0.276</td> \n",
       "</tr>\n",
       "<tr>\n",
       "  <th>Model:</th>                   <td>OLS</td>       <th>  Adj. R-squared:    </th> <td>   0.274</td> \n",
       "</tr>\n",
       "<tr>\n",
       "  <th>Method:</th>             <td>Least Squares</td>  <th>  F-statistic:       </th> <td>   144.0</td> \n",
       "</tr>\n",
       "<tr>\n",
       "  <th>Date:</th>             <td>Fri, 12 Apr 2024</td> <th>  Prob (F-statistic):</th> <td>3.41e-256</td>\n",
       "</tr>\n",
       "<tr>\n",
       "  <th>Time:</th>                 <td>14:18:43</td>     <th>  Log-Likelihood:    </th> <td> -7034.5</td> \n",
       "</tr>\n",
       "<tr>\n",
       "  <th>No. Observations:</th>      <td>  3796</td>      <th>  AIC:               </th> <td>1.409e+04</td>\n",
       "</tr>\n",
       "<tr>\n",
       "  <th>Df Residuals:</th>          <td>  3785</td>      <th>  BIC:               </th> <td>1.416e+04</td>\n",
       "</tr>\n",
       "<tr>\n",
       "  <th>Df Model:</th>              <td>    10</td>      <th>                     </th>     <td> </td>    \n",
       "</tr>\n",
       "<tr>\n",
       "  <th>Covariance Type:</th>      <td>nonrobust</td>    <th>                     </th>     <td> </td>    \n",
       "</tr>\n",
       "</table>\n",
       "<table class=\"simpletable\">\n",
       "<tr>\n",
       "      <td></td>         <th>coef</th>     <th>std err</th>      <th>t</th>      <th>P>|t|</th>  <th>[0.025</th>    <th>0.975]</th>  \n",
       "</tr>\n",
       "<tr>\n",
       "  <th>Intercept</th> <td>    8.6311</td> <td>    0.202</td> <td>   42.637</td> <td> 0.000</td> <td>    8.234</td> <td>    9.028</td>\n",
       "</tr>\n",
       "<tr>\n",
       "  <th>female</th>    <td>    0.1359</td> <td>    0.051</td> <td>    2.682</td> <td> 0.007</td> <td>    0.037</td> <td>    0.235</td>\n",
       "</tr>\n",
       "<tr>\n",
       "  <th>bytest</th>    <td>    0.0934</td> <td>    0.003</td> <td>   29.213</td> <td> 0.000</td> <td>    0.087</td> <td>    0.100</td>\n",
       "</tr>\n",
       "<tr>\n",
       "  <th>tuition</th>   <td>   -0.1996</td> <td>    0.099</td> <td>   -2.012</td> <td> 0.044</td> <td>   -0.394</td> <td>   -0.005</td>\n",
       "</tr>\n",
       "<tr>\n",
       "  <th>black</th>     <td>    0.3361</td> <td>    0.071</td> <td>    4.746</td> <td> 0.000</td> <td>    0.197</td> <td>    0.475</td>\n",
       "</tr>\n",
       "<tr>\n",
       "  <th>hispanic</th>  <td>    0.3363</td> <td>    0.078</td> <td>    4.337</td> <td> 0.000</td> <td>    0.184</td> <td>    0.488</td>\n",
       "</tr>\n",
       "<tr>\n",
       "  <th>ownhome</th>   <td>    0.1635</td> <td>    0.067</td> <td>    2.457</td> <td> 0.014</td> <td>    0.033</td> <td>    0.294</td>\n",
       "</tr>\n",
       "<tr>\n",
       "  <th>momcoll</th>   <td>    0.4132</td> <td>    0.081</td> <td>    5.117</td> <td> 0.000</td> <td>    0.255</td> <td>    0.572</td>\n",
       "</tr>\n",
       "<tr>\n",
       "  <th>dadcoll</th>   <td>    0.6929</td> <td>    0.071</td> <td>    9.699</td> <td> 0.000</td> <td>    0.553</td> <td>    0.833</td>\n",
       "</tr>\n",
       "<tr>\n",
       "  <th>cue80</th>     <td>    0.0211</td> <td>    0.010</td> <td>    2.211</td> <td> 0.027</td> <td>    0.002</td> <td>    0.040</td>\n",
       "</tr>\n",
       "<tr>\n",
       "  <th>dist</th>      <td>   -0.0380</td> <td>    0.013</td> <td>   -2.978</td> <td> 0.003</td> <td>   -0.063</td> <td>   -0.013</td>\n",
       "</tr>\n",
       "</table>\n",
       "<table class=\"simpletable\">\n",
       "<tr>\n",
       "  <th>Omnibus:</th>       <td>120.678</td> <th>  Durbin-Watson:     </th> <td>   1.918</td>\n",
       "</tr>\n",
       "<tr>\n",
       "  <th>Prob(Omnibus):</th> <td> 0.000</td>  <th>  Jarque-Bera (JB):  </th> <td>  99.263</td>\n",
       "</tr>\n",
       "<tr>\n",
       "  <th>Skew:</th>          <td> 0.322</td>  <th>  Prob(JB):          </th> <td>2.79e-22</td>\n",
       "</tr>\n",
       "<tr>\n",
       "  <th>Kurtosis:</th>      <td> 2.537</td>  <th>  Cond. No.          </th> <td>    439.</td>\n",
       "</tr>\n",
       "</table><br/><br/>Notes:<br/>[1] Standard Errors assume that the covariance matrix of the errors is correctly specified."
      ],
      "text/latex": [
       "\\begin{center}\n",
       "\\begin{tabular}{lclc}\n",
       "\\toprule\n",
       "\\textbf{Dep. Variable:}    &        ed        & \\textbf{  R-squared:         } &     0.276   \\\\\n",
       "\\textbf{Model:}            &       OLS        & \\textbf{  Adj. R-squared:    } &     0.274   \\\\\n",
       "\\textbf{Method:}           &  Least Squares   & \\textbf{  F-statistic:       } &     144.0   \\\\\n",
       "\\textbf{Date:}             & Fri, 12 Apr 2024 & \\textbf{  Prob (F-statistic):} & 3.41e-256   \\\\\n",
       "\\textbf{Time:}             &     14:18:43     & \\textbf{  Log-Likelihood:    } &   -7034.5   \\\\\n",
       "\\textbf{No. Observations:} &        3796      & \\textbf{  AIC:               } & 1.409e+04   \\\\\n",
       "\\textbf{Df Residuals:}     &        3785      & \\textbf{  BIC:               } & 1.416e+04   \\\\\n",
       "\\textbf{Df Model:}         &          10      & \\textbf{                     } &             \\\\\n",
       "\\textbf{Covariance Type:}  &    nonrobust     & \\textbf{                     } &             \\\\\n",
       "\\bottomrule\n",
       "\\end{tabular}\n",
       "\\begin{tabular}{lcccccc}\n",
       "                   & \\textbf{coef} & \\textbf{std err} & \\textbf{t} & \\textbf{P$> |$t$|$} & \\textbf{[0.025} & \\textbf{0.975]}  \\\\\n",
       "\\midrule\n",
       "\\textbf{Intercept} &       8.6311  &        0.202     &    42.637  &         0.000        &        8.234    &        9.028     \\\\\n",
       "\\textbf{female}    &       0.1359  &        0.051     &     2.682  &         0.007        &        0.037    &        0.235     \\\\\n",
       "\\textbf{bytest}    &       0.0934  &        0.003     &    29.213  &         0.000        &        0.087    &        0.100     \\\\\n",
       "\\textbf{tuition}   &      -0.1996  &        0.099     &    -2.012  &         0.044        &       -0.394    &       -0.005     \\\\\n",
       "\\textbf{black}     &       0.3361  &        0.071     &     4.746  &         0.000        &        0.197    &        0.475     \\\\\n",
       "\\textbf{hispanic}  &       0.3363  &        0.078     &     4.337  &         0.000        &        0.184    &        0.488     \\\\\n",
       "\\textbf{ownhome}   &       0.1635  &        0.067     &     2.457  &         0.014        &        0.033    &        0.294     \\\\\n",
       "\\textbf{momcoll}   &       0.4132  &        0.081     &     5.117  &         0.000        &        0.255    &        0.572     \\\\\n",
       "\\textbf{dadcoll}   &       0.6929  &        0.071     &     9.699  &         0.000        &        0.553    &        0.833     \\\\\n",
       "\\textbf{cue80}     &       0.0211  &        0.010     &     2.211  &         0.027        &        0.002    &        0.040     \\\\\n",
       "\\textbf{dist}      &      -0.0380  &        0.013     &    -2.978  &         0.003        &       -0.063    &       -0.013     \\\\\n",
       "\\bottomrule\n",
       "\\end{tabular}\n",
       "\\begin{tabular}{lclc}\n",
       "\\textbf{Omnibus:}       & 120.678 & \\textbf{  Durbin-Watson:     } &    1.918  \\\\\n",
       "\\textbf{Prob(Omnibus):} &   0.000 & \\textbf{  Jarque-Bera (JB):  } &   99.263  \\\\\n",
       "\\textbf{Skew:}          &   0.322 & \\textbf{  Prob(JB):          } & 2.79e-22  \\\\\n",
       "\\textbf{Kurtosis:}      &   2.537 & \\textbf{  Cond. No.          } &     439.  \\\\\n",
       "\\bottomrule\n",
       "\\end{tabular}\n",
       "%\\caption{OLS Regression Results}\n",
       "\\end{center}\n",
       "\n",
       "Notes: \\newline\n",
       " [1] Standard Errors assume that the covariance matrix of the errors is correctly specified."
      ],
      "text/plain": [
       "<class 'statsmodels.iolib.summary.Summary'>\n",
       "\"\"\"\n",
       "                            OLS Regression Results                            \n",
       "==============================================================================\n",
       "Dep. Variable:                     ed   R-squared:                       0.276\n",
       "Model:                            OLS   Adj. R-squared:                  0.274\n",
       "Method:                 Least Squares   F-statistic:                     144.0\n",
       "Date:                Fri, 12 Apr 2024   Prob (F-statistic):          3.41e-256\n",
       "Time:                        14:18:43   Log-Likelihood:                -7034.5\n",
       "No. Observations:                3796   AIC:                         1.409e+04\n",
       "Df Residuals:                    3785   BIC:                         1.416e+04\n",
       "Df Model:                          10                                         \n",
       "Covariance Type:            nonrobust                                         \n",
       "==============================================================================\n",
       "                 coef    std err          t      P>|t|      [0.025      0.975]\n",
       "------------------------------------------------------------------------------\n",
       "Intercept      8.6311      0.202     42.637      0.000       8.234       9.028\n",
       "female         0.1359      0.051      2.682      0.007       0.037       0.235\n",
       "bytest         0.0934      0.003     29.213      0.000       0.087       0.100\n",
       "tuition       -0.1996      0.099     -2.012      0.044      -0.394      -0.005\n",
       "black          0.3361      0.071      4.746      0.000       0.197       0.475\n",
       "hispanic       0.3363      0.078      4.337      0.000       0.184       0.488\n",
       "ownhome        0.1635      0.067      2.457      0.014       0.033       0.294\n",
       "momcoll        0.4132      0.081      5.117      0.000       0.255       0.572\n",
       "dadcoll        0.6929      0.071      9.699      0.000       0.553       0.833\n",
       "cue80          0.0211      0.010      2.211      0.027       0.002       0.040\n",
       "dist          -0.0380      0.013     -2.978      0.003      -0.063      -0.013\n",
       "==============================================================================\n",
       "Omnibus:                      120.678   Durbin-Watson:                   1.918\n",
       "Prob(Omnibus):                  0.000   Jarque-Bera (JB):               99.263\n",
       "Skew:                           0.322   Prob(JB):                     2.79e-22\n",
       "Kurtosis:                       2.537   Cond. No.                         439.\n",
       "==============================================================================\n",
       "\n",
       "Notes:\n",
       "[1] Standard Errors assume that the covariance matrix of the errors is correctly specified.\n",
       "\"\"\""
      ]
     },
     "execution_count": 92,
     "metadata": {},
     "output_type": "execute_result"
    }
   ],
   "source": [
    "model = smf.ols('ed ~ female + bytest + tuition + black + hispanic + ownhome + momcoll + dadcoll + cue80 + dist', data=data)\n",
    "res = model.fit()\n",
    "res.summary()"
   ]
  },
  {
   "cell_type": "code",
   "execution_count": 94,
   "metadata": {},
   "outputs": [
    {
     "data": {
      "text/html": [
       "<table class=\"simpletable\">\n",
       "<caption>OLS Regression Results</caption>\n",
       "<tr>\n",
       "  <th>Dep. Variable:</th>           <td>ed</td>        <th>  R-squared:         </th> <td>   0.276</td> \n",
       "</tr>\n",
       "<tr>\n",
       "  <th>Model:</th>                   <td>OLS</td>       <th>  Adj. R-squared:    </th> <td>   0.274</td> \n",
       "</tr>\n",
       "<tr>\n",
       "  <th>Method:</th>             <td>Least Squares</td>  <th>  F-statistic:       </th> <td>   144.0</td> \n",
       "</tr>\n",
       "<tr>\n",
       "  <th>Date:</th>             <td>Fri, 12 Apr 2024</td> <th>  Prob (F-statistic):</th> <td>3.21e-256</td>\n",
       "</tr>\n",
       "<tr>\n",
       "  <th>Time:</th>                 <td>14:30:54</td>     <th>  Log-Likelihood:    </th> <td> -7034.4</td> \n",
       "</tr>\n",
       "<tr>\n",
       "  <th>No. Observations:</th>      <td>  3796</td>      <th>  AIC:               </th> <td>1.409e+04</td>\n",
       "</tr>\n",
       "<tr>\n",
       "  <th>Df Residuals:</th>          <td>  3785</td>      <th>  BIC:               </th> <td>1.416e+04</td>\n",
       "</tr>\n",
       "<tr>\n",
       "  <th>Df Model:</th>              <td>    10</td>      <th>                     </th>     <td> </td>    \n",
       "</tr>\n",
       "<tr>\n",
       "  <th>Covariance Type:</th>      <td>nonrobust</td>    <th>                     </th>     <td> </td>    \n",
       "</tr>\n",
       "</table>\n",
       "<table class=\"simpletable\">\n",
       "<tr>\n",
       "      <td></td>         <th>coef</th>     <th>std err</th>      <th>t</th>      <th>P>|t|</th>  <th>[0.025</th>    <th>0.975]</th>  \n",
       "</tr>\n",
       "<tr>\n",
       "  <th>Intercept</th> <td>    8.4587</td> <td>    0.230</td> <td>   36.801</td> <td> 0.000</td> <td>    8.008</td> <td>    8.909</td>\n",
       "</tr>\n",
       "<tr>\n",
       "  <th>female</th>    <td>    0.1364</td> <td>    0.051</td> <td>    2.692</td> <td> 0.007</td> <td>    0.037</td> <td>    0.236</td>\n",
       "</tr>\n",
       "<tr>\n",
       "  <th>bytest</th>    <td>    0.0934</td> <td>    0.003</td> <td>   29.223</td> <td> 0.000</td> <td>    0.087</td> <td>    0.100</td>\n",
       "</tr>\n",
       "<tr>\n",
       "  <th>tuition</th>   <td>   -0.2063</td> <td>    0.100</td> <td>   -2.063</td> <td> 0.039</td> <td>   -0.402</td> <td>   -0.010</td>\n",
       "</tr>\n",
       "<tr>\n",
       "  <th>black</th>     <td>    0.3344</td> <td>    0.071</td> <td>    4.722</td> <td> 0.000</td> <td>    0.196</td> <td>    0.473</td>\n",
       "</tr>\n",
       "<tr>\n",
       "  <th>hispanic</th>  <td>    0.3370</td> <td>    0.077</td> <td>    4.351</td> <td> 0.000</td> <td>    0.185</td> <td>    0.489</td>\n",
       "</tr>\n",
       "<tr>\n",
       "  <th>ownhome</th>   <td>    0.1648</td> <td>    0.067</td> <td>    2.477</td> <td> 0.013</td> <td>    0.034</td> <td>    0.295</td>\n",
       "</tr>\n",
       "<tr>\n",
       "  <th>momcoll</th>   <td>    0.4142</td> <td>    0.081</td> <td>    5.128</td> <td> 0.000</td> <td>    0.256</td> <td>    0.573</td>\n",
       "</tr>\n",
       "<tr>\n",
       "  <th>dadcoll</th>   <td>    0.6964</td> <td>    0.072</td> <td>    9.736</td> <td> 0.000</td> <td>    0.556</td> <td>    0.837</td>\n",
       "</tr>\n",
       "<tr>\n",
       "  <th>ln_cue80</th>  <td>    0.1682</td> <td>    0.075</td> <td>    2.238</td> <td> 0.025</td> <td>    0.021</td> <td>    0.316</td>\n",
       "</tr>\n",
       "<tr>\n",
       "  <th>dist</th>      <td>   -0.0354</td> <td>    0.012</td> <td>   -2.840</td> <td> 0.005</td> <td>   -0.060</td> <td>   -0.011</td>\n",
       "</tr>\n",
       "</table>\n",
       "<table class=\"simpletable\">\n",
       "<tr>\n",
       "  <th>Omnibus:</th>       <td>120.910</td> <th>  Durbin-Watson:     </th> <td>   1.919</td>\n",
       "</tr>\n",
       "<tr>\n",
       "  <th>Prob(Omnibus):</th> <td> 0.000</td>  <th>  Jarque-Bera (JB):  </th> <td>  99.202</td>\n",
       "</tr>\n",
       "<tr>\n",
       "  <th>Skew:</th>          <td> 0.321</td>  <th>  Prob(JB):          </th> <td>2.87e-22</td>\n",
       "</tr>\n",
       "<tr>\n",
       "  <th>Kurtosis:</th>      <td> 2.536</td>  <th>  Cond. No.          </th> <td>    489.</td>\n",
       "</tr>\n",
       "</table><br/><br/>Notes:<br/>[1] Standard Errors assume that the covariance matrix of the errors is correctly specified."
      ],
      "text/latex": [
       "\\begin{center}\n",
       "\\begin{tabular}{lclc}\n",
       "\\toprule\n",
       "\\textbf{Dep. Variable:}    &        ed        & \\textbf{  R-squared:         } &     0.276   \\\\\n",
       "\\textbf{Model:}            &       OLS        & \\textbf{  Adj. R-squared:    } &     0.274   \\\\\n",
       "\\textbf{Method:}           &  Least Squares   & \\textbf{  F-statistic:       } &     144.0   \\\\\n",
       "\\textbf{Date:}             & Fri, 12 Apr 2024 & \\textbf{  Prob (F-statistic):} & 3.21e-256   \\\\\n",
       "\\textbf{Time:}             &     14:30:54     & \\textbf{  Log-Likelihood:    } &   -7034.4   \\\\\n",
       "\\textbf{No. Observations:} &        3796      & \\textbf{  AIC:               } & 1.409e+04   \\\\\n",
       "\\textbf{Df Residuals:}     &        3785      & \\textbf{  BIC:               } & 1.416e+04   \\\\\n",
       "\\textbf{Df Model:}         &          10      & \\textbf{                     } &             \\\\\n",
       "\\textbf{Covariance Type:}  &    nonrobust     & \\textbf{                     } &             \\\\\n",
       "\\bottomrule\n",
       "\\end{tabular}\n",
       "\\begin{tabular}{lcccccc}\n",
       "                   & \\textbf{coef} & \\textbf{std err} & \\textbf{t} & \\textbf{P$> |$t$|$} & \\textbf{[0.025} & \\textbf{0.975]}  \\\\\n",
       "\\midrule\n",
       "\\textbf{Intercept} &       8.4587  &        0.230     &    36.801  &         0.000        &        8.008    &        8.909     \\\\\n",
       "\\textbf{female}    &       0.1364  &        0.051     &     2.692  &         0.007        &        0.037    &        0.236     \\\\\n",
       "\\textbf{bytest}    &       0.0934  &        0.003     &    29.223  &         0.000        &        0.087    &        0.100     \\\\\n",
       "\\textbf{tuition}   &      -0.2063  &        0.100     &    -2.063  &         0.039        &       -0.402    &       -0.010     \\\\\n",
       "\\textbf{black}     &       0.3344  &        0.071     &     4.722  &         0.000        &        0.196    &        0.473     \\\\\n",
       "\\textbf{hispanic}  &       0.3370  &        0.077     &     4.351  &         0.000        &        0.185    &        0.489     \\\\\n",
       "\\textbf{ownhome}   &       0.1648  &        0.067     &     2.477  &         0.013        &        0.034    &        0.295     \\\\\n",
       "\\textbf{momcoll}   &       0.4142  &        0.081     &     5.128  &         0.000        &        0.256    &        0.573     \\\\\n",
       "\\textbf{dadcoll}   &       0.6964  &        0.072     &     9.736  &         0.000        &        0.556    &        0.837     \\\\\n",
       "\\textbf{ln\\_cue80} &       0.1682  &        0.075     &     2.238  &         0.025        &        0.021    &        0.316     \\\\\n",
       "\\textbf{dist}      &      -0.0354  &        0.012     &    -2.840  &         0.005        &       -0.060    &       -0.011     \\\\\n",
       "\\bottomrule\n",
       "\\end{tabular}\n",
       "\\begin{tabular}{lclc}\n",
       "\\textbf{Omnibus:}       & 120.910 & \\textbf{  Durbin-Watson:     } &    1.919  \\\\\n",
       "\\textbf{Prob(Omnibus):} &   0.000 & \\textbf{  Jarque-Bera (JB):  } &   99.202  \\\\\n",
       "\\textbf{Skew:}          &   0.321 & \\textbf{  Prob(JB):          } & 2.87e-22  \\\\\n",
       "\\textbf{Kurtosis:}      &   2.536 & \\textbf{  Cond. No.          } &     489.  \\\\\n",
       "\\bottomrule\n",
       "\\end{tabular}\n",
       "%\\caption{OLS Regression Results}\n",
       "\\end{center}\n",
       "\n",
       "Notes: \\newline\n",
       " [1] Standard Errors assume that the covariance matrix of the errors is correctly specified."
      ],
      "text/plain": [
       "<class 'statsmodels.iolib.summary.Summary'>\n",
       "\"\"\"\n",
       "                            OLS Regression Results                            \n",
       "==============================================================================\n",
       "Dep. Variable:                     ed   R-squared:                       0.276\n",
       "Model:                            OLS   Adj. R-squared:                  0.274\n",
       "Method:                 Least Squares   F-statistic:                     144.0\n",
       "Date:                Fri, 12 Apr 2024   Prob (F-statistic):          3.21e-256\n",
       "Time:                        14:30:54   Log-Likelihood:                -7034.4\n",
       "No. Observations:                3796   AIC:                         1.409e+04\n",
       "Df Residuals:                    3785   BIC:                         1.416e+04\n",
       "Df Model:                          10                                         \n",
       "Covariance Type:            nonrobust                                         \n",
       "==============================================================================\n",
       "                 coef    std err          t      P>|t|      [0.025      0.975]\n",
       "------------------------------------------------------------------------------\n",
       "Intercept      8.4587      0.230     36.801      0.000       8.008       8.909\n",
       "female         0.1364      0.051      2.692      0.007       0.037       0.236\n",
       "bytest         0.0934      0.003     29.223      0.000       0.087       0.100\n",
       "tuition       -0.2063      0.100     -2.063      0.039      -0.402      -0.010\n",
       "black          0.3344      0.071      4.722      0.000       0.196       0.473\n",
       "hispanic       0.3370      0.077      4.351      0.000       0.185       0.489\n",
       "ownhome        0.1648      0.067      2.477      0.013       0.034       0.295\n",
       "momcoll        0.4142      0.081      5.128      0.000       0.256       0.573\n",
       "dadcoll        0.6964      0.072      9.736      0.000       0.556       0.837\n",
       "ln_cue80       0.1682      0.075      2.238      0.025       0.021       0.316\n",
       "dist          -0.0354      0.012     -2.840      0.005      -0.060      -0.011\n",
       "==============================================================================\n",
       "Omnibus:                      120.910   Durbin-Watson:                   1.919\n",
       "Prob(Omnibus):                  0.000   Jarque-Bera (JB):               99.202\n",
       "Skew:                           0.321   Prob(JB):                     2.87e-22\n",
       "Kurtosis:                       2.536   Cond. No.                         489.\n",
       "==============================================================================\n",
       "\n",
       "Notes:\n",
       "[1] Standard Errors assume that the covariance matrix of the errors is correctly specified.\n",
       "\"\"\""
      ]
     },
     "execution_count": 94,
     "metadata": {},
     "output_type": "execute_result"
    }
   ],
   "source": [
    "model = smf.ols('ed ~ female + bytest + tuition + black + hispanic + ownhome + momcoll + dadcoll + ln_cue80 + dist', data=data)\n",
    "res = model.fit()\n",
    "res.summary()"
   ]
  },
  {
   "cell_type": "markdown",
   "metadata": {},
   "source": [
    "Проведем тест на гомоскедастичность: (проверим постоянна ли дисперсия случайной ошибки у различных налблюдений)"
   ]
  },
  {
   "cell_type": "code",
   "execution_count": 86,
   "metadata": {},
   "outputs": [
    {
     "data": {
      "text/plain": [
       "[('Lagrange multiplier statistic', 104.71834285545631),\n",
       " ('p-value', 6.1696905256943025e-18),\n",
       " ('f-value', 10.73770480073615),\n",
       " ('f p-value', 3.419204086764003e-18)]"
      ]
     },
     "execution_count": 86,
     "metadata": {},
     "output_type": "execute_result"
    }
   ],
   "source": [
    "from statsmodels.compat import lzip\n",
    "import statsmodels.stats.api as sms\n",
    "\n",
    "#perform Bresuch-Pagan test\n",
    "names = ['Lagrange multiplier statistic', 'p-value',\n",
    " 'f-value', 'f p-value']\n",
    "test = sms.het_breuschpagan(res.resid, res.model.exog)\n",
    "\n",
    "lzip(names, test)"
   ]
  },
  {
   "cell_type": "markdown",
   "metadata": {},
   "source": [
    "p-значение достаточно маленькое, значит, отвергаем гипотезу об отсутсвии гетероскедастичности, что свидетельствует о ее наличии. Таким образом оценки в модели получаются несмещенные и состоятельные (предпосылки не нарушены), но оставшиеся оценки некорректны. Тогда введем коррекцию на гетероскедастичность:"
   ]
  },
  {
   "cell_type": "code",
   "execution_count": 83,
   "metadata": {},
   "outputs": [
    {
     "name": "stdout",
     "output_type": "stream",
     "text": [
      "                            OLS Regression Results                            \n",
      "==============================================================================\n",
      "Dep. Variable:                     ed   R-squared:                       0.276\n",
      "Model:                            OLS   Adj. R-squared:                  0.274\n",
      "Method:                 Least Squares   F-statistic:                     191.7\n",
      "Date:                Fri, 12 Apr 2024   Prob (F-statistic):               0.00\n",
      "Time:                        13:05:25   Log-Likelihood:                -7034.5\n",
      "No. Observations:                3796   AIC:                         1.409e+04\n",
      "Df Residuals:                    3785   BIC:                         1.416e+04\n",
      "Df Model:                          10                                         \n",
      "Covariance Type:                  HC3                                         \n",
      "==============================================================================\n",
      "                 coef    std err          z      P>|z|      [0.025      0.975]\n",
      "------------------------------------------------------------------------------\n",
      "Intercept      8.6311      0.187     46.083      0.000       8.264       8.998\n",
      "female         0.1359      0.051      2.690      0.007       0.037       0.235\n",
      "bytest         0.0934      0.003     30.811      0.000       0.087       0.099\n",
      "tuition       -0.1996      0.097     -2.051      0.040      -0.390      -0.009\n",
      "black          0.3361      0.067      5.044      0.000       0.205       0.467\n",
      "hispanic       0.3363      0.077      4.382      0.000       0.186       0.487\n",
      "ownhome        0.1635      0.065      2.505      0.012       0.036       0.291\n",
      "momcoll        0.4132      0.083      4.962      0.000       0.250       0.576\n",
      "dadcoll        0.6929      0.074      9.303      0.000       0.547       0.839\n",
      "cue80          0.0211      0.009      2.255      0.024       0.003       0.039\n",
      "dist          -0.0380      0.012     -3.125      0.002      -0.062      -0.014\n",
      "==============================================================================\n",
      "Omnibus:                      120.678   Durbin-Watson:                   1.918\n",
      "Prob(Omnibus):                  0.000   Jarque-Bera (JB):               99.263\n",
      "Skew:                           0.322   Prob(JB):                     2.79e-22\n",
      "Kurtosis:                       2.537   Cond. No.                         439.\n",
      "==============================================================================\n",
      "\n",
      "Notes:\n",
      "[1] Standard Errors are heteroscedasticity robust (HC3)\n"
     ]
    }
   ],
   "source": [
    "model = smf.ols('ed ~ female + bytest + tuition + black + hispanic + ownhome + momcoll + dadcoll + cue80 + dist', data=data)\n",
    "res=model.fit(cov_type='HC3')\n",
    "print(res.summary())"
   ]
  },
  {
   "cell_type": "markdown",
   "metadata": {},
   "source": [
    "Проведем тест Рамсея для проверки правильности спецификации модели:\n",
    "\n",
    "H0: модель специфицирована адекватно\n",
    "\n",
    "H1: нужно менять спецификацию"
   ]
  },
  {
   "cell_type": "code",
   "execution_count": 95,
   "metadata": {},
   "outputs": [
    {
     "name": "stdout",
     "output_type": "stream",
     "text": [
      "<Wald test (chi2): statistic=10.103162755441241, p-value=0.006399205879005599, df_denom=2>\n"
     ]
    }
   ],
   "source": [
    "reset_test = linear_reset(res)\n",
    "print(reset_test)"
   ]
  },
  {
   "cell_type": "markdown",
   "metadata": {},
   "source": [
    "p-значение меньше уровня значимости \n",
    "\n",
    "\n",
    "alpha = 0,05 > 0.00644 = р-значение\n",
    "\n",
    "Значит, отвергаем Н0 и ищем другую спецификацию"
   ]
  },
  {
   "cell_type": "markdown",
   "metadata": {},
   "source": []
  },
  {
   "cell_type": "markdown",
   "metadata": {},
   "source": [
    "Проверим, отличается ли модель для респондентов, чья семья владеет домом, от модели респондентов, чья семья не владеет домом, и определим: нужно ли изучать эти подвыборки отдельно или нет?\n",
    "\n",
    "\n",
    "Гипотезу на значимость переменной ownhome:\n",
    "\n",
    "\n",
    "H0: коэффициент при рассматриваемой переменной = 0"
   ]
  },
  {
   "cell_type": "code",
   "execution_count": 98,
   "metadata": {},
   "outputs": [
    {
     "name": "stdout",
     "output_type": "stream",
     "text": [
      "t-статистика: 2.476647910106582\n",
      "p-значение: 0.013305649953690138\n"
     ]
    }
   ],
   "source": [
    "t_statistic = res.tvalues['ownhome']\n",
    "p_value = res.pvalues['ownhome']\n",
    "\n",
    "print(\"t-статистика:\", t_statistic)\n",
    "print(\"p-значение:\", p_value)\n"
   ]
  },
  {
   "cell_type": "markdown",
   "metadata": {},
   "source": [
    "p-значение меньше t-статистики, значит, отвергаем Н0, переменная оказывается значимой и, таким образом, интересно будет рассмотреть выборки по данной переменной"
   ]
  },
  {
   "cell_type": "markdown",
   "metadata": {},
   "source": [
    "Дадим интерпретацию переменным female, black, ln_сue80.\n",
    "\n",
    "\n",
    "Проверка на значимость: критическое значение = 1.96\n",
    "\n",
    "\n",
    "Female: t расч = 2.8 > 1.96 значимо\n",
    "\n",
    "\n",
    "Black: t расч = 4.71 > 1.96 значимо\n",
    "\n",
    "\n",
    "Ln(cue80): t расч = 2.1 > 1.96 значимо \n",
    "\n",
    "\n",
    "Женщины в среднем при прочих равных учатся на 0,14 года дольше, чем мужчины.\n",
    "Люди, принадлежащие негроидной расе в среднем, при прочих равных учатся на 0,33 года дольше, чем люди, не принадлежащие негроидной расе.\n",
    "При увеличении уровня безработицы на 1 процент, срок обучения увеличивается на 0,0017 года"
   ]
  },
  {
   "cell_type": "markdown",
   "metadata": {},
   "source": []
  }
 ],
 "metadata": {
  "kernelspec": {
   "display_name": "Python 3",
   "language": "python",
   "name": "python3"
  },
  "language_info": {
   "codemirror_mode": {
    "name": "ipython",
    "version": 3
   },
   "file_extension": ".py",
   "mimetype": "text/x-python",
   "name": "python",
   "nbconvert_exporter": "python",
   "pygments_lexer": "ipython3",
   "version": "3.9.6"
  }
 },
 "nbformat": 4,
 "nbformat_minor": 2
}
